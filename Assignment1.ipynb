{
 "cells": [
  {
   "cell_type": "markdown",
   "id": "2f6eaecb",
   "metadata": {},
   "source": [
    "# pipeline"
   ]
  },
  {
   "cell_type": "markdown",
   "id": "2fa8fcdc",
   "metadata": {},
   "source": [
    "1. Importing the required libraries\n",
    "2. Reading the Dataset\n",
    "3. Analysing the data\n",
    "4. Data preprocessing\n",
    "5. Model building\n",
    "6. Model Evaluation"
   ]
  },
  {
   "cell_type": "code",
   "execution_count": null,
   "id": "7d17efa3",
   "metadata": {},
   "outputs": [],
   "source": [
    "#importing the required libraries\n",
    "import pandas as pd\n",
    "import seaborn as sns\n",
    "import numpy as np\n",
    "import matplotlib.pyplot as plt"
   ]
  },
  {
   "cell_type": "markdown",
   "id": "8e528385",
   "metadata": {},
   "source": [
    "# Reading the dataset"
   ]
  },
  {
   "cell_type": "code",
   "execution_count": 3,
   "id": "e0b02f47",
   "metadata": {},
   "outputs": [],
   "source": [
    "# reading the dataset\n",
    "train_df = pd.read_csv('train.csv')\n",
    "test_df = pd.read_csv('test.csv')"
   ]
  },
  {
   "cell_type": "code",
   "execution_count": 4,
   "id": "48c49a82",
   "metadata": {},
   "outputs": [
    {
     "data": {
      "text/html": [
       "<div>\n",
       "<style scoped>\n",
       "    .dataframe tbody tr th:only-of-type {\n",
       "        vertical-align: middle;\n",
       "    }\n",
       "\n",
       "    .dataframe tbody tr th {\n",
       "        vertical-align: top;\n",
       "    }\n",
       "\n",
       "    .dataframe thead th {\n",
       "        text-align: right;\n",
       "    }\n",
       "</style>\n",
       "<table border=\"1\" class=\"dataframe\">\n",
       "  <thead>\n",
       "    <tr style=\"text-align: right;\">\n",
       "      <th></th>\n",
       "      <th>x</th>\n",
       "      <th>y</th>\n",
       "    </tr>\n",
       "  </thead>\n",
       "  <tbody>\n",
       "    <tr>\n",
       "      <th>0</th>\n",
       "      <td>24.0</td>\n",
       "      <td>21.549452</td>\n",
       "    </tr>\n",
       "    <tr>\n",
       "      <th>1</th>\n",
       "      <td>50.0</td>\n",
       "      <td>47.464463</td>\n",
       "    </tr>\n",
       "    <tr>\n",
       "      <th>2</th>\n",
       "      <td>15.0</td>\n",
       "      <td>17.218656</td>\n",
       "    </tr>\n",
       "    <tr>\n",
       "      <th>3</th>\n",
       "      <td>38.0</td>\n",
       "      <td>36.586398</td>\n",
       "    </tr>\n",
       "    <tr>\n",
       "      <th>4</th>\n",
       "      <td>87.0</td>\n",
       "      <td>87.288984</td>\n",
       "    </tr>\n",
       "  </tbody>\n",
       "</table>\n",
       "</div>"
      ],
      "text/plain": [
       "      x          y\n",
       "0  24.0  21.549452\n",
       "1  50.0  47.464463\n",
       "2  15.0  17.218656\n",
       "3  38.0  36.586398\n",
       "4  87.0  87.288984"
      ]
     },
     "execution_count": 4,
     "metadata": {},
     "output_type": "execute_result"
    }
   ],
   "source": [
    "train_df.head()"
   ]
  },
  {
   "cell_type": "code",
   "execution_count": 5,
   "id": "45721be8",
   "metadata": {},
   "outputs": [
    {
     "data": {
      "text/html": [
       "<div>\n",
       "<style scoped>\n",
       "    .dataframe tbody tr th:only-of-type {\n",
       "        vertical-align: middle;\n",
       "    }\n",
       "\n",
       "    .dataframe tbody tr th {\n",
       "        vertical-align: top;\n",
       "    }\n",
       "\n",
       "    .dataframe thead th {\n",
       "        text-align: right;\n",
       "    }\n",
       "</style>\n",
       "<table border=\"1\" class=\"dataframe\">\n",
       "  <thead>\n",
       "    <tr style=\"text-align: right;\">\n",
       "      <th></th>\n",
       "      <th>x</th>\n",
       "      <th>y</th>\n",
       "    </tr>\n",
       "  </thead>\n",
       "  <tbody>\n",
       "    <tr>\n",
       "      <th>0</th>\n",
       "      <td>77</td>\n",
       "      <td>79.775152</td>\n",
       "    </tr>\n",
       "    <tr>\n",
       "      <th>1</th>\n",
       "      <td>21</td>\n",
       "      <td>23.177279</td>\n",
       "    </tr>\n",
       "    <tr>\n",
       "      <th>2</th>\n",
       "      <td>22</td>\n",
       "      <td>25.609262</td>\n",
       "    </tr>\n",
       "    <tr>\n",
       "      <th>3</th>\n",
       "      <td>20</td>\n",
       "      <td>17.857388</td>\n",
       "    </tr>\n",
       "    <tr>\n",
       "      <th>4</th>\n",
       "      <td>36</td>\n",
       "      <td>41.849864</td>\n",
       "    </tr>\n",
       "  </tbody>\n",
       "</table>\n",
       "</div>"
      ],
      "text/plain": [
       "    x          y\n",
       "0  77  79.775152\n",
       "1  21  23.177279\n",
       "2  22  25.609262\n",
       "3  20  17.857388\n",
       "4  36  41.849864"
      ]
     },
     "execution_count": 5,
     "metadata": {},
     "output_type": "execute_result"
    }
   ],
   "source": [
    "test_df.head()"
   ]
  },
  {
   "cell_type": "code",
   "execution_count": 6,
   "id": "ee4f74eb",
   "metadata": {},
   "outputs": [
    {
     "data": {
      "text/plain": [
       "x    0\n",
       "y    1\n",
       "dtype: int64"
      ]
     },
     "execution_count": 6,
     "metadata": {},
     "output_type": "execute_result"
    }
   ],
   "source": [
    "# checking for null values\n",
    "\n",
    "train_df.isnull().sum()"
   ]
  },
  {
   "cell_type": "code",
   "execution_count": 8,
   "id": "102ea6e9",
   "metadata": {},
   "outputs": [
    {
     "data": {
      "text/plain": [
       "x    0\n",
       "y    0\n",
       "dtype: int64"
      ]
     },
     "execution_count": 8,
     "metadata": {},
     "output_type": "execute_result"
    }
   ],
   "source": [
    "test_df.isnull().sum()"
   ]
  },
  {
   "cell_type": "code",
   "execution_count": 9,
   "id": "e73888b8",
   "metadata": {},
   "outputs": [],
   "source": [
    "# no null values are present in the test data \n",
    "# some null values present train data. so deleting the rows with null values\n",
    "\n",
    "train_df = train_df.dropna()"
   ]
  },
  {
   "cell_type": "code",
   "execution_count": 10,
   "id": "c1a6d2e6",
   "metadata": {},
   "outputs": [
    {
     "data": {
      "text/plain": [
       "x    0\n",
       "y    0\n",
       "dtype: int64"
      ]
     },
     "execution_count": 10,
     "metadata": {},
     "output_type": "execute_result"
    }
   ],
   "source": [
    "train_df.isnull().sum()"
   ]
  },
  {
   "cell_type": "code",
   "execution_count": 11,
   "id": "bdfc283a",
   "metadata": {},
   "outputs": [
    {
     "data": {
      "text/plain": [
       "Index(['x', 'y'], dtype='object')"
      ]
     },
     "execution_count": 11,
     "metadata": {},
     "output_type": "execute_result"
    }
   ],
   "source": [
    "# checking the columns in data\n",
    "train_df.columns"
   ]
  },
  {
   "cell_type": "markdown",
   "id": "8e57f011",
   "metadata": {},
   "source": [
    "# Training and testing data\n"
   ]
  },
  {
   "cell_type": "code",
   "execution_count": 12,
   "id": "cc093026",
   "metadata": {},
   "outputs": [],
   "source": [
    "X_train = train_df['x']"
   ]
  },
  {
   "cell_type": "code",
   "execution_count": 26,
   "id": "37df065d",
   "metadata": {},
   "outputs": [
    {
     "data": {
      "text/plain": [
       "(699, 1)"
      ]
     },
     "execution_count": 26,
     "metadata": {},
     "output_type": "execute_result"
    }
   ],
   "source": [
    "X_train.shape"
   ]
  },
  {
   "cell_type": "code",
   "execution_count": 28,
   "id": "2bcd6711",
   "metadata": {},
   "outputs": [],
   "source": [
    "X_test = test_df['x']"
   ]
  },
  {
   "cell_type": "code",
   "execution_count": 33,
   "id": "04eaf10e",
   "metadata": {},
   "outputs": [],
   "source": [
    "X_test = X_test.values.reshape(-1,1)"
   ]
  },
  {
   "cell_type": "code",
   "execution_count": 29,
   "id": "383af59f",
   "metadata": {},
   "outputs": [],
   "source": [
    "y_test = test_df['y']"
   ]
  },
  {
   "cell_type": "code",
   "execution_count": 14,
   "id": "758df962",
   "metadata": {},
   "outputs": [],
   "source": [
    "y_train = train_df['y']"
   ]
  },
  {
   "cell_type": "code",
   "execution_count": 15,
   "id": "3a30b80a",
   "metadata": {},
   "outputs": [
    {
     "data": {
      "text/plain": [
       "0    21.549452\n",
       "1    47.464463\n",
       "2    17.218656\n",
       "3    36.586398\n",
       "4    87.288984\n",
       "Name: y, dtype: float64"
      ]
     },
     "execution_count": 15,
     "metadata": {},
     "output_type": "execute_result"
    }
   ],
   "source": [
    "y_train.head()"
   ]
  },
  {
   "cell_type": "code",
   "execution_count": 18,
   "id": "fb92f283",
   "metadata": {
    "scrolled": true
   },
   "outputs": [
    {
     "data": {
      "text/plain": [
       "<matplotlib.collections.PathCollection at 0x24558a1a520>"
      ]
     },
     "execution_count": 18,
     "metadata": {},
     "output_type": "execute_result"
    },
    {
     "data": {
      "image/png": "[encoded data removed]",
      "text/plain": [
       "<Figure size 432x288 with 1 Axes>"
      ]
     },
     "metadata": {
      "needs_background": "light"
     },
     "output_type": "display_data"
    }
   ],
   "source": [
    "# checking the relationship between dependent variable and independent variable x and y\n",
    "plt.scatter(X_train,y_train)"
   ]
  },
  {
   "cell_type": "code",
   "execution_count": null,
   "id": "fb8f677b",
   "metadata": {},
   "outputs": [],
   "source": [
    "# by the plot we can see that there is linear relationship x and y. \n",
    "# therefore we can apply linear regression and mode and \n",
    "# find slope and intercept of the linear line"
   ]
  },
  {
   "cell_type": "markdown",
   "id": "a8232c0e",
   "metadata": {},
   "source": [
    "# Building a model"
   ]
  },
  {
   "cell_type": "code",
   "execution_count": null,
   "id": "587388cc",
   "metadata": {},
   "outputs": [],
   "source": [
    "# linear regression model.\n",
    "# it is a simple linear regression model i.e one dependent variable and one independent variable\n",
    "# y = Ax+b\n",
    "# A is coefficient\n",
    "# b is intercept\n",
    "# aim is to find A and b so that we get mininum error"
   ]
  },
  {
   "cell_type": "code",
   "execution_count": 19,
   "id": "0557bcbf",
   "metadata": {},
   "outputs": [],
   "source": [
    "#model building\n",
    "from sklearn.linear_model import LinearRegression\n",
    "\n",
    "lr = LinearRegression()"
   ]
  },
  {
   "cell_type": "code",
   "execution_count": 31,
   "id": "68e1bf54",
   "metadata": {},
   "outputs": [
    {
     "data": {
      "text/plain": [
       "LinearRegression()"
      ]
     },
     "execution_count": 31,
     "metadata": {},
     "output_type": "execute_result"
    }
   ],
   "source": [
    "# training the model\n",
    "lr.fit(X_train,y_train)"
   ]
  },
  {
   "cell_type": "code",
   "execution_count": 34,
   "id": "59e7b8c5",
   "metadata": {},
   "outputs": [],
   "source": [
    "# testing the model\n",
    "y_pred = lr.predict(X_test)"
   ]
  },
  {
   "cell_type": "code",
   "execution_count": 65,
   "id": "10f08d2e",
   "metadata": {},
   "outputs": [
    {
     "data": {
      "text/plain": [
       "array([[ 77],\n",
       "       [ 21],\n",
       "       [ 22],\n",
       "       [ 20],\n",
       "       [ 36],\n",
       "       [ 15],\n",
       "       [ 62],\n",
       "       [ 95],\n",
       "       [ 20],\n",
       "       [  5],\n",
       "       [  4],\n",
       "       [ 19],\n",
       "       [ 96],\n",
       "       [ 62],\n",
       "       [ 36],\n",
       "       [ 15],\n",
       "       [ 65],\n",
       "       [ 14],\n",
       "       [ 87],\n",
       "       [ 69],\n",
       "       [ 89],\n",
       "       [ 51],\n",
       "       [ 89],\n",
       "       [ 27],\n",
       "       [ 97],\n",
       "       [ 58],\n",
       "       [ 79],\n",
       "       [ 21],\n",
       "       [ 93],\n",
       "       [ 27],\n",
       "       [ 99],\n",
       "       [ 31],\n",
       "       [ 33],\n",
       "       [ 80],\n",
       "       [ 28],\n",
       "       [ 47],\n",
       "       [ 53],\n",
       "       [ 69],\n",
       "       [ 28],\n",
       "       [ 33],\n",
       "       [ 91],\n",
       "       [ 71],\n",
       "       [ 50],\n",
       "       [ 76],\n",
       "       [  4],\n",
       "       [ 37],\n",
       "       [ 70],\n",
       "       [ 68],\n",
       "       [ 40],\n",
       "       [ 35],\n",
       "       [ 94],\n",
       "       [ 88],\n",
       "       [ 52],\n",
       "       [ 31],\n",
       "       [ 59],\n",
       "       [  0],\n",
       "       [ 39],\n",
       "       [ 64],\n",
       "       [ 69],\n",
       "       [ 57],\n",
       "       [ 13],\n",
       "       [ 72],\n",
       "       [ 76],\n",
       "       [ 61],\n",
       "       [ 82],\n",
       "       [ 18],\n",
       "       [ 41],\n",
       "       [ 50],\n",
       "       [ 55],\n",
       "       [ 13],\n",
       "       [ 46],\n",
       "       [ 13],\n",
       "       [ 79],\n",
       "       [ 53],\n",
       "       [ 15],\n",
       "       [ 28],\n",
       "       [ 81],\n",
       "       [ 69],\n",
       "       [ 52],\n",
       "       [ 84],\n",
       "       [ 68],\n",
       "       [ 27],\n",
       "       [ 56],\n",
       "       [ 48],\n",
       "       [ 40],\n",
       "       [ 39],\n",
       "       [ 82],\n",
       "       [100],\n",
       "       [ 59],\n",
       "       [ 43],\n",
       "       [ 67],\n",
       "       [ 38],\n",
       "       [ 63],\n",
       "       [ 91],\n",
       "       [ 60],\n",
       "       [ 14],\n",
       "       [ 21],\n",
       "       [ 87],\n",
       "       [ 73],\n",
       "       [ 32],\n",
       "       [  2],\n",
       "       [ 82],\n",
       "       [ 19],\n",
       "       [ 74],\n",
       "       [ 42],\n",
       "       [ 12],\n",
       "       [  1],\n",
       "       [ 90],\n",
       "       [ 89],\n",
       "       [  0],\n",
       "       [ 41],\n",
       "       [ 16],\n",
       "       [ 94],\n",
       "       [ 97],\n",
       "       [ 66],\n",
       "       [ 24],\n",
       "       [ 17],\n",
       "       [ 90],\n",
       "       [ 13],\n",
       "       [  0],\n",
       "       [ 64],\n",
       "       [ 96],\n",
       "       [ 98],\n",
       "       [ 12],\n",
       "       [ 41],\n",
       "       [ 47],\n",
       "       [ 78],\n",
       "       [ 20],\n",
       "       [ 89],\n",
       "       [ 29],\n",
       "       [ 64],\n",
       "       [ 75],\n",
       "       [ 12],\n",
       "       [ 25],\n",
       "       [ 28],\n",
       "       [ 30],\n",
       "       [ 65],\n",
       "       [ 59],\n",
       "       [ 64],\n",
       "       [ 53],\n",
       "       [ 71],\n",
       "       [ 97],\n",
       "       [ 73],\n",
       "       [  9],\n",
       "       [ 12],\n",
       "       [ 63],\n",
       "       [ 99],\n",
       "       [ 60],\n",
       "       [ 35],\n",
       "       [  2],\n",
       "       [ 60],\n",
       "       [ 32],\n",
       "       [ 94],\n",
       "       [ 84],\n",
       "       [ 63],\n",
       "       [ 22],\n",
       "       [ 81],\n",
       "       [ 93],\n",
       "       [ 33],\n",
       "       [  7],\n",
       "       [ 42],\n",
       "       [ 46],\n",
       "       [ 54],\n",
       "       [ 16],\n",
       "       [ 49],\n",
       "       [ 43],\n",
       "       [ 95],\n",
       "       [ 66],\n",
       "       [ 21],\n",
       "       [ 35],\n",
       "       [ 80],\n",
       "       [ 37],\n",
       "       [ 54],\n",
       "       [ 56],\n",
       "       [  1],\n",
       "       [ 32],\n",
       "       [ 58],\n",
       "       [ 32],\n",
       "       [ 46],\n",
       "       [ 72],\n",
       "       [ 17],\n",
       "       [ 97],\n",
       "       [ 93],\n",
       "       [ 91],\n",
       "       [ 37],\n",
       "       [  4],\n",
       "       [ 54],\n",
       "       [ 51],\n",
       "       [ 27],\n",
       "       [ 46],\n",
       "       [ 92],\n",
       "       [ 73],\n",
       "       [ 77],\n",
       "       [ 91],\n",
       "       [ 61],\n",
       "       [ 99],\n",
       "       [  4],\n",
       "       [ 72],\n",
       "       [ 19],\n",
       "       [ 57],\n",
       "       [ 78],\n",
       "       [ 26],\n",
       "       [ 74],\n",
       "       [ 90],\n",
       "       [ 66],\n",
       "       [ 13],\n",
       "       [ 40],\n",
       "       [ 77],\n",
       "       [ 67],\n",
       "       [ 75],\n",
       "       [ 23],\n",
       "       [ 45],\n",
       "       [ 59],\n",
       "       [ 44],\n",
       "       [ 23],\n",
       "       [ 55],\n",
       "       [ 55],\n",
       "       [ 95],\n",
       "       [ 12],\n",
       "       [  4],\n",
       "       [  7],\n",
       "       [100],\n",
       "       [ 48],\n",
       "       [ 42],\n",
       "       [ 96],\n",
       "       [ 39],\n",
       "       [100],\n",
       "       [ 87],\n",
       "       [ 14],\n",
       "       [ 14],\n",
       "       [ 37],\n",
       "       [  5],\n",
       "       [ 88],\n",
       "       [ 91],\n",
       "       [ 65],\n",
       "       [ 74],\n",
       "       [ 56],\n",
       "       [ 16],\n",
       "       [  5],\n",
       "       [ 28],\n",
       "       [ 92],\n",
       "       [ 46],\n",
       "       [ 54],\n",
       "       [ 39],\n",
       "       [ 44],\n",
       "       [ 31],\n",
       "       [ 68],\n",
       "       [ 86],\n",
       "       [ 90],\n",
       "       [ 38],\n",
       "       [ 21],\n",
       "       [ 95],\n",
       "       [ 56],\n",
       "       [ 60],\n",
       "       [ 65],\n",
       "       [ 78],\n",
       "       [ 89],\n",
       "       [  6],\n",
       "       [ 67],\n",
       "       [ 36],\n",
       "       [ 16],\n",
       "       [100],\n",
       "       [ 45],\n",
       "       [ 73],\n",
       "       [ 57],\n",
       "       [ 20],\n",
       "       [ 76],\n",
       "       [ 34],\n",
       "       [ 55],\n",
       "       [ 72],\n",
       "       [ 55],\n",
       "       [  8],\n",
       "       [ 56],\n",
       "       [ 72],\n",
       "       [ 58],\n",
       "       [  6],\n",
       "       [ 96],\n",
       "       [ 23],\n",
       "       [ 58],\n",
       "       [ 23],\n",
       "       [ 19],\n",
       "       [ 25],\n",
       "       [ 64],\n",
       "       [ 21],\n",
       "       [ 59],\n",
       "       [ 19],\n",
       "       [ 16],\n",
       "       [ 42],\n",
       "       [ 43],\n",
       "       [ 61],\n",
       "       [ 92],\n",
       "       [ 11],\n",
       "       [ 41],\n",
       "       [  1],\n",
       "       [  8],\n",
       "       [ 71],\n",
       "       [ 46],\n",
       "       [ 55],\n",
       "       [ 62],\n",
       "       [ 47]], dtype=int64)"
      ]
     },
     "execution_count": 65,
     "metadata": {},
     "output_type": "execute_result"
    }
   ],
   "source": [
    "X_test"
   ]
  },
  {
   "cell_type": "code",
   "execution_count": 64,
   "id": "fe0e49cb",
   "metadata": {},
   "outputs": [
    {
     "data": {
      "text/plain": [
       "array([76.94327594, 20.90651855, 21.90717494, 19.90586217, 35.91636428,\n",
       "       14.90258026, 61.93343021, 94.95509081, 19.90586217,  4.89601644,\n",
       "        3.89536006, 18.90520579, 95.95574719, 61.93343021, 35.91636428,\n",
       "       14.90258026, 64.93539936, 13.90192388, 86.94983976, 68.93802488,\n",
       "       88.95115252, 50.92621001, 88.95115252, 26.91045685, 96.95640358,\n",
       "       57.93080468, 78.9445887 , 20.90651855, 92.95377805, 26.91045685,\n",
       "       98.95771634, 30.91308237, 32.91439514, 79.94524508, 27.91111323,\n",
       "       46.92358448, 52.92752277, 68.93802488, 27.91111323, 32.91439514,\n",
       "       90.95246528, 70.93933765, 49.92555363, 75.94261956,  3.89536006,\n",
       "       36.91702066, 69.93868127, 67.9373685 , 39.91898981, 34.9157079 ,\n",
       "       93.95443443, 87.95049614, 51.92686639, 30.91308237, 58.93146107,\n",
       "       -0.10726546, 38.91833343, 63.93474297, 68.93802488, 56.9301483 ,\n",
       "       12.9012675 , 71.93999403, 75.94261956, 60.93277383, 81.94655785,\n",
       "       17.90454941, 40.91964619, 49.92555363, 54.92883554, 12.9012675 ,\n",
       "       45.9229281 , 12.9012675 , 78.9445887 , 52.92752277, 14.90258026,\n",
       "       27.91111323, 80.94590147, 68.93802488, 51.92686639, 83.94787061,\n",
       "       67.9373685 , 26.91045685, 55.92949192, 47.92424086, 39.91898981,\n",
       "       38.91833343, 81.94655785, 99.95837272, 58.93146107, 42.92095896,\n",
       "       66.93671212, 37.91767705, 62.93408659, 90.95246528, 59.93211745,\n",
       "       13.90192388, 20.90651855, 86.94983976, 72.94065041, 31.91373876,\n",
       "        1.8940473 , 81.94655785, 18.90520579, 73.94130679, 41.92030257,\n",
       "       11.90061112,  0.89339092, 89.9518089 , 88.95115252, -0.10726546,\n",
       "       40.91964619, 15.90323665, 93.95443443, 96.95640358, 65.93605574,\n",
       "       23.9084877 , 16.90389303, 89.9518089 , 12.9012675 , -0.10726546,\n",
       "       63.93474297, 95.95574719, 97.95705996, 11.90061112, 40.91964619,\n",
       "       46.92358448, 77.94393232, 19.90586217, 88.95115252, 28.91176961,\n",
       "       63.93474297, 74.94196317, 11.90061112, 24.90914408, 27.91111323,\n",
       "       29.91242599, 64.93539936, 58.93146107, 63.93474297, 52.92752277,\n",
       "       70.93933765, 96.95640358, 72.94065041,  8.89864197, 11.90061112,\n",
       "       62.93408659, 98.95771634, 59.93211745, 34.9157079 ,  1.8940473 ,\n",
       "       59.93211745, 31.91373876, 93.95443443, 83.94787061, 62.93408659,\n",
       "       21.90717494, 80.94590147, 92.95377805, 32.91439514,  6.89732921,\n",
       "       41.92030257, 45.9229281 , 53.92817916, 15.90323665, 48.92489725,\n",
       "       42.92095896, 94.95509081, 65.93605574, 20.90651855, 34.9157079 ,\n",
       "       79.94524508, 36.91702066, 53.92817916, 55.92949192,  0.89339092,\n",
       "       31.91373876, 57.93080468, 31.91373876, 45.9229281 , 71.93999403,\n",
       "       16.90389303, 96.95640358, 92.95377805, 90.95246528, 36.91702066,\n",
       "        3.89536006, 53.92817916, 50.92621001, 26.91045685, 45.9229281 ,\n",
       "       91.95312167, 72.94065041, 76.94327594, 90.95246528, 60.93277383,\n",
       "       98.95771634,  3.89536006, 71.93999403, 18.90520579, 56.9301483 ,\n",
       "       77.94393232, 25.90980046, 73.94130679, 89.9518089 , 65.93605574,\n",
       "       12.9012675 , 39.91898981, 76.94327594, 66.93671212, 74.94196317,\n",
       "       22.90783132, 44.92227172, 58.93146107, 43.92161534, 22.90783132,\n",
       "       54.92883554, 54.92883554, 94.95509081, 11.90061112,  3.89536006,\n",
       "        6.89732921, 99.95837272, 47.92424086, 41.92030257, 95.95574719,\n",
       "       38.91833343, 99.95837272, 86.94983976, 13.90192388, 13.90192388,\n",
       "       36.91702066,  4.89601644, 87.95049614, 90.95246528, 64.93539936,\n",
       "       73.94130679, 55.92949192, 15.90323665,  4.89601644, 27.91111323,\n",
       "       91.95312167, 45.9229281 , 53.92817916, 38.91833343, 43.92161534,\n",
       "       30.91308237, 67.9373685 , 85.94918338, 89.9518089 , 37.91767705,\n",
       "       20.90651855, 94.95509081, 55.92949192, 59.93211745, 64.93539936,\n",
       "       77.94393232, 88.95115252,  5.89667283, 66.93671212, 35.91636428,\n",
       "       15.90323665, 99.95837272, 44.92227172, 72.94065041, 56.9301483 ,\n",
       "       19.90586217, 75.94261956, 33.91505152, 54.92883554, 71.93999403,\n",
       "       54.92883554,  7.89798559, 55.92949192, 71.93999403, 57.93080468,\n",
       "        5.89667283, 95.95574719, 22.90783132, 57.93080468, 22.90783132,\n",
       "       18.90520579, 24.90914408, 63.93474297, 20.90651855, 58.93146107,\n",
       "       18.90520579, 15.90323665, 41.92030257, 42.92095896, 60.93277383,\n",
       "       91.95312167, 10.89995474, 40.91964619,  0.89339092,  7.89798559,\n",
       "       70.93933765, 45.9229281 , 54.92883554, 61.93343021, 46.92358448])"
      ]
     },
     "execution_count": 64,
     "metadata": {},
     "output_type": "execute_result"
    }
   ],
   "source": [
    "y_pred"
   ]
  },
  {
   "cell_type": "markdown",
   "id": "d35cbf75",
   "metadata": {},
   "source": [
    "# Evaluating the model"
   ]
  },
  {
   "cell_type": "code",
   "execution_count": 36,
   "id": "8ead2128",
   "metadata": {},
   "outputs": [],
   "source": [
    "#evaluation metrics\n",
    "from sklearn.metrics import mean_squared_error\n",
    "from sklearn.metrics import r2_score"
   ]
  },
  {
   "cell_type": "code",
   "execution_count": 37,
   "id": "b66711c4",
   "metadata": {},
   "outputs": [],
   "source": [
    "mse = mean_squared_error(y_test,y_pred)"
   ]
  },
  {
   "cell_type": "code",
   "execution_count": 39,
   "id": "33aedb07",
   "metadata": {},
   "outputs": [
    {
     "name": "stdout",
     "output_type": "stream",
     "text": [
      "mean squared error is 9.432922192039317\n"
     ]
    }
   ],
   "source": [
    "print(f'mean squared error is {mse}')"
   ]
  },
  {
   "cell_type": "code",
   "execution_count": 40,
   "id": "f4ad6e21",
   "metadata": {},
   "outputs": [],
   "source": [
    "r2 = r2_score(y_test,y_pred)"
   ]
  },
  {
   "cell_type": "code",
   "execution_count": 41,
   "id": "1280b5e9",
   "metadata": {},
   "outputs": [
    {
     "name": "stdout",
     "output_type": "stream",
     "text": [
      "R2 score of the model is 0.9888014444327563\n"
     ]
    }
   ],
   "source": [
    "print(f'R2 score of the model is {r2}')"
   ]
  },
  {
   "cell_type": "code",
   "execution_count": 44,
   "id": "8f33584b",
   "metadata": {},
   "outputs": [
    {
     "name": "stdout",
     "output_type": "stream",
     "text": [
      "intercept of the linear model id -0.10726546430095141\n"
     ]
    }
   ],
   "source": [
    "\n",
    "print(f'intercept of the linear model id {lr.intercept_}')"
   ]
  },
  {
   "cell_type": "code",
   "execution_count": 45,
   "id": "27b375b8",
   "metadata": {},
   "outputs": [
    {
     "name": "stdout",
     "output_type": "stream",
     "text": [
      "slope of the linear model id [1.00065638]\n"
     ]
    }
   ],
   "source": [
    "print(f'slope of the linear model id {lr.coef_}')"
   ]
  },
  {
   "cell_type": "markdown",
   "id": "fc1d12df",
   "metadata": {},
   "source": [
    "Verification"
   ]
  },
  {
   "cell_type": "code",
   "execution_count": 63,
   "id": "415e4235",
   "metadata": {},
   "outputs": [],
   "source": [
    "y_pred1 = 1.00065638*X_test-0.10726546430095141"
   ]
  },
  {
   "cell_type": "code",
   "execution_count": 69,
   "id": "cd21a5f6",
   "metadata": {},
   "outputs": [
    {
     "data": {
      "text/plain": [
       "array([76.94327594, 20.90651855, 21.90717494, 19.90586217, 35.91636428,\n",
       "       14.90258026, 61.93343021, 94.95509081, 19.90586217,  4.89601644,\n",
       "        3.89536006, 18.90520579, 95.95574719, 61.93343021, 35.91636428,\n",
       "       14.90258026, 64.93539936, 13.90192388, 86.94983976, 68.93802488,\n",
       "       88.95115252, 50.92621001, 88.95115252, 26.91045685, 96.95640358,\n",
       "       57.93080468, 78.9445887 , 20.90651855, 92.95377805, 26.91045685,\n",
       "       98.95771634, 30.91308237, 32.91439514, 79.94524508, 27.91111323,\n",
       "       46.92358448, 52.92752277, 68.93802488, 27.91111323, 32.91439514,\n",
       "       90.95246528, 70.93933765, 49.92555363, 75.94261956,  3.89536006,\n",
       "       36.91702066, 69.93868127, 67.9373685 , 39.91898981, 34.9157079 ,\n",
       "       93.95443443, 87.95049614, 51.92686639, 30.91308237, 58.93146107,\n",
       "       -0.10726546, 38.91833343, 63.93474297, 68.93802488, 56.9301483 ,\n",
       "       12.9012675 , 71.93999403, 75.94261956, 60.93277383, 81.94655785,\n",
       "       17.90454941, 40.91964619, 49.92555363, 54.92883554, 12.9012675 ,\n",
       "       45.9229281 , 12.9012675 , 78.9445887 , 52.92752277, 14.90258026,\n",
       "       27.91111323, 80.94590147, 68.93802488, 51.92686639, 83.94787061,\n",
       "       67.9373685 , 26.91045685, 55.92949192, 47.92424086, 39.91898981,\n",
       "       38.91833343, 81.94655785, 99.95837272, 58.93146107, 42.92095896,\n",
       "       66.93671212, 37.91767705, 62.93408659, 90.95246528, 59.93211745,\n",
       "       13.90192388, 20.90651855, 86.94983976, 72.94065041, 31.91373876,\n",
       "        1.8940473 , 81.94655785, 18.90520579, 73.94130679, 41.92030257,\n",
       "       11.90061112,  0.89339092, 89.9518089 , 88.95115252, -0.10726546,\n",
       "       40.91964619, 15.90323665, 93.95443443, 96.95640358, 65.93605574,\n",
       "       23.9084877 , 16.90389303, 89.9518089 , 12.9012675 , -0.10726546,\n",
       "       63.93474297, 95.95574719, 97.95705996, 11.90061112, 40.91964619,\n",
       "       46.92358448, 77.94393232, 19.90586217, 88.95115252, 28.91176961,\n",
       "       63.93474297, 74.94196317, 11.90061112, 24.90914408, 27.91111323,\n",
       "       29.91242599, 64.93539936, 58.93146107, 63.93474297, 52.92752277,\n",
       "       70.93933765, 96.95640358, 72.94065041,  8.89864197, 11.90061112,\n",
       "       62.93408659, 98.95771634, 59.93211745, 34.9157079 ,  1.8940473 ,\n",
       "       59.93211745, 31.91373876, 93.95443443, 83.94787061, 62.93408659,\n",
       "       21.90717494, 80.94590147, 92.95377805, 32.91439514,  6.89732921,\n",
       "       41.92030257, 45.9229281 , 53.92817916, 15.90323665, 48.92489725,\n",
       "       42.92095896, 94.95509081, 65.93605574, 20.90651855, 34.9157079 ,\n",
       "       79.94524508, 36.91702066, 53.92817916, 55.92949192,  0.89339092,\n",
       "       31.91373876, 57.93080468, 31.91373876, 45.9229281 , 71.93999403,\n",
       "       16.90389303, 96.95640358, 92.95377805, 90.95246528, 36.91702066,\n",
       "        3.89536006, 53.92817916, 50.92621001, 26.91045685, 45.9229281 ,\n",
       "       91.95312167, 72.94065041, 76.94327594, 90.95246528, 60.93277383,\n",
       "       98.95771634,  3.89536006, 71.93999403, 18.90520579, 56.9301483 ,\n",
       "       77.94393232, 25.90980046, 73.94130679, 89.9518089 , 65.93605574,\n",
       "       12.9012675 , 39.91898981, 76.94327594, 66.93671212, 74.94196317,\n",
       "       22.90783132, 44.92227172, 58.93146107, 43.92161534, 22.90783132,\n",
       "       54.92883554, 54.92883554, 94.95509081, 11.90061112,  3.89536006,\n",
       "        6.89732921, 99.95837272, 47.92424086, 41.92030257, 95.95574719,\n",
       "       38.91833343, 99.95837272, 86.94983976, 13.90192388, 13.90192388,\n",
       "       36.91702066,  4.89601644, 87.95049614, 90.95246528, 64.93539936,\n",
       "       73.94130679, 55.92949192, 15.90323665,  4.89601644, 27.91111323,\n",
       "       91.95312167, 45.9229281 , 53.92817916, 38.91833343, 43.92161534,\n",
       "       30.91308237, 67.9373685 , 85.94918338, 89.9518089 , 37.91767705,\n",
       "       20.90651855, 94.95509081, 55.92949192, 59.93211745, 64.93539936,\n",
       "       77.94393232, 88.95115252,  5.89667283, 66.93671212, 35.91636428,\n",
       "       15.90323665, 99.95837272, 44.92227172, 72.94065041, 56.9301483 ,\n",
       "       19.90586217, 75.94261956, 33.91505152, 54.92883554, 71.93999403,\n",
       "       54.92883554,  7.89798559, 55.92949192, 71.93999403, 57.93080468,\n",
       "        5.89667283, 95.95574719, 22.90783132, 57.93080468, 22.90783132,\n",
       "       18.90520579, 24.90914408, 63.93474297, 20.90651855, 58.93146107,\n",
       "       18.90520579, 15.90323665, 41.92030257, 42.92095896, 60.93277383,\n",
       "       91.95312167, 10.89995474, 40.91964619,  0.89339092,  7.89798559,\n",
       "       70.93933765, 45.9229281 , 54.92883554, 61.93343021, 46.92358448])"
      ]
     },
     "execution_count": 69,
     "metadata": {},
     "output_type": "execute_result"
    }
   ],
   "source": [
    "y_pred"
   ]
  },
  {
   "cell_type": "code",
   "execution_count": 70,
   "id": "8bfcd1d7",
   "metadata": {},
   "outputs": [
    {
     "data": {
      "text/plain": [
       "array([[ 77],\n",
       "       [ 21],\n",
       "       [ 22],\n",
       "       [ 20],\n",
       "       [ 36],\n",
       "       [ 15],\n",
       "       [ 62],\n",
       "       [ 95],\n",
       "       [ 20],\n",
       "       [  5],\n",
       "       [  4],\n",
       "       [ 19],\n",
       "       [ 96],\n",
       "       [ 62],\n",
       "       [ 36],\n",
       "       [ 15],\n",
       "       [ 65],\n",
       "       [ 14],\n",
       "       [ 87],\n",
       "       [ 69],\n",
       "       [ 89],\n",
       "       [ 51],\n",
       "       [ 89],\n",
       "       [ 27],\n",
       "       [ 97],\n",
       "       [ 58],\n",
       "       [ 79],\n",
       "       [ 21],\n",
       "       [ 93],\n",
       "       [ 27],\n",
       "       [ 99],\n",
       "       [ 31],\n",
       "       [ 33],\n",
       "       [ 80],\n",
       "       [ 28],\n",
       "       [ 47],\n",
       "       [ 53],\n",
       "       [ 69],\n",
       "       [ 28],\n",
       "       [ 33],\n",
       "       [ 91],\n",
       "       [ 71],\n",
       "       [ 50],\n",
       "       [ 76],\n",
       "       [  4],\n",
       "       [ 37],\n",
       "       [ 70],\n",
       "       [ 68],\n",
       "       [ 40],\n",
       "       [ 35],\n",
       "       [ 94],\n",
       "       [ 88],\n",
       "       [ 52],\n",
       "       [ 31],\n",
       "       [ 59],\n",
       "       [  0],\n",
       "       [ 39],\n",
       "       [ 64],\n",
       "       [ 69],\n",
       "       [ 57],\n",
       "       [ 13],\n",
       "       [ 72],\n",
       "       [ 76],\n",
       "       [ 61],\n",
       "       [ 82],\n",
       "       [ 18],\n",
       "       [ 41],\n",
       "       [ 50],\n",
       "       [ 55],\n",
       "       [ 13],\n",
       "       [ 46],\n",
       "       [ 13],\n",
       "       [ 79],\n",
       "       [ 53],\n",
       "       [ 15],\n",
       "       [ 28],\n",
       "       [ 81],\n",
       "       [ 69],\n",
       "       [ 52],\n",
       "       [ 84],\n",
       "       [ 68],\n",
       "       [ 27],\n",
       "       [ 56],\n",
       "       [ 48],\n",
       "       [ 40],\n",
       "       [ 39],\n",
       "       [ 82],\n",
       "       [100],\n",
       "       [ 59],\n",
       "       [ 43],\n",
       "       [ 67],\n",
       "       [ 38],\n",
       "       [ 63],\n",
       "       [ 91],\n",
       "       [ 60],\n",
       "       [ 14],\n",
       "       [ 21],\n",
       "       [ 87],\n",
       "       [ 73],\n",
       "       [ 32],\n",
       "       [  2],\n",
       "       [ 82],\n",
       "       [ 19],\n",
       "       [ 74],\n",
       "       [ 42],\n",
       "       [ 12],\n",
       "       [  1],\n",
       "       [ 90],\n",
       "       [ 89],\n",
       "       [  0],\n",
       "       [ 41],\n",
       "       [ 16],\n",
       "       [ 94],\n",
       "       [ 97],\n",
       "       [ 66],\n",
       "       [ 24],\n",
       "       [ 17],\n",
       "       [ 90],\n",
       "       [ 13],\n",
       "       [  0],\n",
       "       [ 64],\n",
       "       [ 96],\n",
       "       [ 98],\n",
       "       [ 12],\n",
       "       [ 41],\n",
       "       [ 47],\n",
       "       [ 78],\n",
       "       [ 20],\n",
       "       [ 89],\n",
       "       [ 29],\n",
       "       [ 64],\n",
       "       [ 75],\n",
       "       [ 12],\n",
       "       [ 25],\n",
       "       [ 28],\n",
       "       [ 30],\n",
       "       [ 65],\n",
       "       [ 59],\n",
       "       [ 64],\n",
       "       [ 53],\n",
       "       [ 71],\n",
       "       [ 97],\n",
       "       [ 73],\n",
       "       [  9],\n",
       "       [ 12],\n",
       "       [ 63],\n",
       "       [ 99],\n",
       "       [ 60],\n",
       "       [ 35],\n",
       "       [  2],\n",
       "       [ 60],\n",
       "       [ 32],\n",
       "       [ 94],\n",
       "       [ 84],\n",
       "       [ 63],\n",
       "       [ 22],\n",
       "       [ 81],\n",
       "       [ 93],\n",
       "       [ 33],\n",
       "       [  7],\n",
       "       [ 42],\n",
       "       [ 46],\n",
       "       [ 54],\n",
       "       [ 16],\n",
       "       [ 49],\n",
       "       [ 43],\n",
       "       [ 95],\n",
       "       [ 66],\n",
       "       [ 21],\n",
       "       [ 35],\n",
       "       [ 80],\n",
       "       [ 37],\n",
       "       [ 54],\n",
       "       [ 56],\n",
       "       [  1],\n",
       "       [ 32],\n",
       "       [ 58],\n",
       "       [ 32],\n",
       "       [ 46],\n",
       "       [ 72],\n",
       "       [ 17],\n",
       "       [ 97],\n",
       "       [ 93],\n",
       "       [ 91],\n",
       "       [ 37],\n",
       "       [  4],\n",
       "       [ 54],\n",
       "       [ 51],\n",
       "       [ 27],\n",
       "       [ 46],\n",
       "       [ 92],\n",
       "       [ 73],\n",
       "       [ 77],\n",
       "       [ 91],\n",
       "       [ 61],\n",
       "       [ 99],\n",
       "       [  4],\n",
       "       [ 72],\n",
       "       [ 19],\n",
       "       [ 57],\n",
       "       [ 78],\n",
       "       [ 26],\n",
       "       [ 74],\n",
       "       [ 90],\n",
       "       [ 66],\n",
       "       [ 13],\n",
       "       [ 40],\n",
       "       [ 77],\n",
       "       [ 67],\n",
       "       [ 75],\n",
       "       [ 23],\n",
       "       [ 45],\n",
       "       [ 59],\n",
       "       [ 44],\n",
       "       [ 23],\n",
       "       [ 55],\n",
       "       [ 55],\n",
       "       [ 95],\n",
       "       [ 12],\n",
       "       [  4],\n",
       "       [  7],\n",
       "       [100],\n",
       "       [ 48],\n",
       "       [ 42],\n",
       "       [ 96],\n",
       "       [ 39],\n",
       "       [100],\n",
       "       [ 87],\n",
       "       [ 14],\n",
       "       [ 14],\n",
       "       [ 37],\n",
       "       [  5],\n",
       "       [ 88],\n",
       "       [ 91],\n",
       "       [ 65],\n",
       "       [ 74],\n",
       "       [ 56],\n",
       "       [ 16],\n",
       "       [  5],\n",
       "       [ 28],\n",
       "       [ 92],\n",
       "       [ 46],\n",
       "       [ 54],\n",
       "       [ 39],\n",
       "       [ 44],\n",
       "       [ 31],\n",
       "       [ 68],\n",
       "       [ 86],\n",
       "       [ 90],\n",
       "       [ 38],\n",
       "       [ 21],\n",
       "       [ 95],\n",
       "       [ 56],\n",
       "       [ 60],\n",
       "       [ 65],\n",
       "       [ 78],\n",
       "       [ 89],\n",
       "       [  6],\n",
       "       [ 67],\n",
       "       [ 36],\n",
       "       [ 16],\n",
       "       [100],\n",
       "       [ 45],\n",
       "       [ 73],\n",
       "       [ 57],\n",
       "       [ 20],\n",
       "       [ 76],\n",
       "       [ 34],\n",
       "       [ 55],\n",
       "       [ 72],\n",
       "       [ 55],\n",
       "       [  8],\n",
       "       [ 56],\n",
       "       [ 72],\n",
       "       [ 58],\n",
       "       [  6],\n",
       "       [ 96],\n",
       "       [ 23],\n",
       "       [ 58],\n",
       "       [ 23],\n",
       "       [ 19],\n",
       "       [ 25],\n",
       "       [ 64],\n",
       "       [ 21],\n",
       "       [ 59],\n",
       "       [ 19],\n",
       "       [ 16],\n",
       "       [ 42],\n",
       "       [ 43],\n",
       "       [ 61],\n",
       "       [ 92],\n",
       "       [ 11],\n",
       "       [ 41],\n",
       "       [  1],\n",
       "       [  8],\n",
       "       [ 71],\n",
       "       [ 46],\n",
       "       [ 55],\n",
       "       [ 62],\n",
       "       [ 47]], dtype=int64)"
      ]
     },
     "execution_count": 70,
     "metadata": {},
     "output_type": "execute_result"
    }
   ],
   "source": [
    "X_test"
   ]
  },
  {
   "cell_type": "code",
   "execution_count": 73,
   "id": "142a133e",
   "metadata": {},
   "outputs": [],
   "source": [
    "y_pred2 = 1.00065638*77-0.10726546430095141"
   ]
  },
  {
   "cell_type": "code",
   "execution_count": 74,
   "id": "f74ae6ca",
   "metadata": {},
   "outputs": [
    {
     "data": {
      "text/plain": [
       "76.94327579569904"
      ]
     },
     "execution_count": 74,
     "metadata": {},
     "output_type": "execute_result"
    }
   ],
   "source": [
    "y_pred2"
   ]
  },
  {
   "cell_type": "code",
   "execution_count": 76,
   "id": "7209ea1f",
   "metadata": {},
   "outputs": [
    {
     "data": {
      "text/plain": [
       "76.94327593863441"
      ]
     },
     "execution_count": 76,
     "metadata": {},
     "output_type": "execute_result"
    }
   ],
   "source": [
    "y_pred[0]"
   ]
  },
  {
   "cell_type": "code",
   "execution_count": null,
   "id": "9a2651b3",
   "metadata": {},
   "outputs": [],
   "source": []
  }
 ],
 "metadata": {
  "kernelspec": {
   "display_name": "Python 3 (ipykernel)",
   "language": "python",
   "name": "python3"
  },
  "language_info": {
   "codemirror_mode": {
    "name": "ipython",
    "version": 3
   },
   "file_extension": ".py",
   "mimetype": "text/x-python",
   "name": "python",
   "nbconvert_exporter": "python",
   "pygments_lexer": "ipython3",
   "version": "3.9.7"
  }
 },
 "nbformat": 4,
 "nbformat_minor": 5
}
